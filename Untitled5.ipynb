{
  "nbformat": 4,
  "nbformat_minor": 0,
  "metadata": {
    "colab": {
      "name": "Untitled5.ipynb",
      "version": "0.3.2",
      "provenance": [],
      "include_colab_link": true
    },
    "kernelspec": {
      "name": "python3",
      "display_name": "Python 3"
    }
  },
  "cells": [
    {
      "cell_type": "markdown",
      "metadata": {
        "id": "view-in-github",
        "colab_type": "text"
      },
      "source": [
        "<a href=\"https://colab.research.google.com/github/cuqia/1a2b/blob/master/Untitled5.ipynb\" target=\"_parent\"><img src=\"https://colab.research.google.com/assets/colab-badge.svg\" alt=\"Open In Colab\"/></a>"
      ]
    },
    {
      "cell_type": "code",
      "metadata": {
        "id": "pOzdBM0D6cN0",
        "colab_type": "code",
        "outputId": "67fe6eea-f507-486c-b18e-f991a7dffd43",
        "colab": {
          "base_uri": "https://localhost:8080/",
          "height": 87
        }
      },
      "source": [
        "from string import digits\n",
        "from random import randint, choice\n",
        "\n",
        "print (\"\"\"A一個代表數字正確位置正確，B代表數字正確位置錯誤。直到猜中（即4A0B）為止\"\"\")\n",
        "seeds = \"1234567890\"\n",
        "num1= []\n",
        "for i in range(4):\n",
        "  num1.append(choice(seeds))\n",
        "num2 = \"\".join(num1)\n",
        "num = []\n",
        "results = []\n",
        "Winner = 0\n",
        "while Winner == 0:\n",
        "  num = input('輸入四個數字:')\n",
        "  nA = 0 \n",
        "  nB = 0\n",
        "  for i in range(4) :\n",
        "    if num[i] in num1 :\n",
        "      if i == num2.find(num[i]) :\n",
        "        nA += 1\n",
        "      else :\n",
        "        nB += 1\n",
        "    if nA == 4:\n",
        "      print (\"you win!!\")\n",
        "      Winner = 1\n",
        "    else:\n",
        "      exit\n",
        "    result = '%dA%dB' % (nA, nB)\n",
        "  print (result)\n"
      ],
      "execution_count": 0,
      "outputs": [
        {
          "output_type": "stream",
          "text": [
            "A一個代表數字正確位置正確，B代表數字正確位置錯誤。直到猜中（即4A0B）為止\n",
            "輸入四個數字:7891\n",
            "0A1B\n"
          ],
          "name": "stdout"
        }
      ]
    }
  ]
}